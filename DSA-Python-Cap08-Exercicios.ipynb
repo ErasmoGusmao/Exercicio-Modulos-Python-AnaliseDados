{
 "cells": [
  {
   "cell_type": "markdown",
   "metadata": {},
   "source": [
    "# <font color='blue'>Data Science Academy - Python Fundamentos - Capítulo 8</font>\n",
    "\n",
    "## Download: http://github.com/dsacademybr"
   ]
  },
  {
   "cell_type": "code",
   "execution_count": null,
   "metadata": {},
   "outputs": [],
   "source": [
    "# Versão da Linguagem Python\n",
    "from platform import python_version\n",
    "print('Versão da Linguagem Python Usada Neste Jupyter Notebook:', python_version())"
   ]
  },
  {
   "cell_type": "markdown",
   "metadata": {},
   "source": [
    "### Exercícios Sobre Módulos Python Para Análise de Dados"
   ]
  },
  {
   "cell_type": "markdown",
   "metadata": {},
   "source": [
    "### ****** ATENÇÃO ******\n",
    "### Alguns dos exercícios podem requerer pesquisa adicional na documentação dos pacotes. Pesquise!"
   ]
  },
  {
   "cell_type": "markdown",
   "metadata": {},
   "source": [
    "### Exercício 1"
   ]
  },
  {
   "cell_type": "code",
   "execution_count": 82,
   "metadata": {},
   "outputs": [
    {
     "name": "stdout",
     "output_type": "stream",
     "text": [
      "Wall time: 15.6 ms\n"
     ]
    }
   ],
   "source": [
    "# Crie um array NumPy com 1000000 e uma lista com 1000000.\n",
    "# Multiplique cada elemento do array e da lista por 2 e calcule o tempo de execução com cada um dos objetos (use %time).\n",
    "# Qual objeto oferece melhor performance, array NumPy ou lista?\n",
    "\n",
    "\n",
    "############################## ANALISANDO O TEMPO DO ARRAY #####################################################\n",
    "import time\n",
    "\n",
    "# Numpy\n",
    "import numpy as np\n",
    "\n",
    "# Cria uma array unidimencional com o número 1 de elemento\n",
    "one = np.array([1])\n",
    "# Cria um Array para de 1000000 de 1\n",
    "Array = np.repeat(one, 1000000)\n",
    "\n",
    "\n",
    "# Inicia a contagem de tempo para o Array\n",
    "#start_array = time.time()\n",
    "\n",
    "#Multiplicação o Array por 2\n",
    "%time for _ in range(10): Array*2\n",
    "\n",
    "# Verifica a variação do tempo de execulção da rotina\n",
    "#delta_time_array = time.time() - start_array\n",
    "#print(\"delta_time_array = \", delta_time_array)\n"
   ]
  },
  {
   "cell_type": "code",
   "execution_count": 84,
   "metadata": {},
   "outputs": [
    {
     "name": "stdout",
     "output_type": "stream",
     "text": [
      "Wall time: 610 ms\n"
     ]
    }
   ],
   "source": [
    "############################## ANALISANDO O TEMPO DA LISTA #####################################################\n",
    "import time\n",
    "\n",
    "# Numpy\n",
    "import numpy as np\n",
    "\n",
    "\n",
    "# Criar uma lista com 1000000 de 1 como elementos\n",
    "Lista = []\n",
    "while len(Lista)<1000000:\n",
    "    Lista.append(1)\n",
    "\n",
    "# Inicia a contagem de tempo para a Lista\n",
    "#start_lista = time.time()\n",
    "\n",
    "#Multiplicação da Lista por 2\n",
    "%time for _ in range(10): Lista2 = [x*2 for x in Lista]\n",
    "\n",
    "# Verifica a variação do tempo de execulção da rotina\n",
    "#delta_time_lista = time.time() - start_lista\n",
    "\n",
    "#print(\"delta_time_lista = \", delta_time_lista)"
   ]
  },
  {
   "cell_type": "markdown",
   "metadata": {},
   "source": [
    "### Exercício 2"
   ]
  },
  {
   "cell_type": "code",
   "execution_count": 32,
   "metadata": {},
   "outputs": [
    {
     "name": "stdout",
     "output_type": "stream",
     "text": [
      "array2 antes =  [10 19 28 37 46 55 64 73 82 91]\n",
      "array2 depois=  [10 19 28 37 46  0  0  0  0 91]\n"
     ]
    }
   ],
   "source": [
    "# Exercício 2\n",
    "# Crie um array de 10 elementos\n",
    "# Altere o valores de todos os elementos dos índices 5 a 8 para 0\n",
    "\n",
    "import numpy as np\n",
    "\n",
    "# Criação de um array com 10 elementos\n",
    "\n",
    "array2 = np.arange(10,100,9)\n",
    "print(\"array2 antes = \", array2)\n",
    "\n",
    "# Altera os valores de todos os elementos dos índices 5 a 8 para 0\n",
    "\n",
    "i = 0\n",
    "while i < len(array2):\n",
    "    if (i>4)and(i<9):\n",
    "        array2[i]=0\n",
    "        i= i + 1\n",
    "    else:\n",
    "        i= i + 1\n",
    "\n",
    "print(\"array2 depois= \", array2)\n"
   ]
  },
  {
   "cell_type": "code",
   "execution_count": 89,
   "metadata": {},
   "outputs": [
    {
     "name": "stdout",
     "output_type": "stream",
     "text": [
      "array antes =  [0 1 2 3 4 5 6 7 8 9]\n",
      "array depois =  [0 1 2 3 4 0 0 0 8 9]\n"
     ]
    }
   ],
   "source": [
    "#Solunção 2\n",
    "import numpy as np\n",
    "\n",
    "arr = np.arange(10)\n",
    "print(\"array antes = \", arr)\n",
    "\n",
    "arr[5:8]=0\n",
    "\n",
    "print(\"array depois = \", arr)"
   ]
  },
  {
   "cell_type": "markdown",
   "metadata": {},
   "source": [
    "### Exercício 3"
   ]
  },
  {
   "cell_type": "code",
   "execution_count": 90,
   "metadata": {},
   "outputs": [
    {
     "name": "stdout",
     "output_type": "stream",
     "text": [
      "#Imprime todas as três dimensões\n",
      "\n",
      "[[[ 1.91988257 -0.30365252  0.13538857]\n",
      "  [ 0.2183881  -0.68878576 -0.07027844]\n",
      "  [ 1.60780895 -0.51698557 -0.17055037]]\n",
      "\n",
      " [[-1.59367316 -2.11430628  0.4327841 ]\n",
      "  [ 1.64951585 -0.95343307  0.55061245]\n",
      "  [-1.64542497 -0.51867033  0.1678702 ]]\n",
      "\n",
      " [[-0.21654408 -0.27186256  0.1271449 ]\n",
      "  [ 0.08130142 -1.12254424 -1.35140196]\n",
      "  [ 1.44468241  0.22069225  0.74187819]]]\n",
      "\n",
      "\n",
      "#Imprime a dimensão 1\n",
      "\n",
      "[[ 1.91988257 -0.30365252  0.13538857]\n",
      " [ 0.2183881  -0.68878576 -0.07027844]\n",
      " [ 1.60780895 -0.51698557 -0.17055037]]\n"
     ]
    }
   ],
   "source": [
    "# Crie um array de 3 dimensões e imprima a dimensão 1\n",
    "import numpy as np\n",
    "\n",
    "# Cria um array tridimencional com elementos aleatórios\n",
    "array3D = np.random.randn(3,3,3)\n",
    "\n",
    "#Imprime todas as três dimensões\n",
    "print(\"#Imprime todas as três dimensões\\n\")\n",
    "print(array3D)\n",
    "\n",
    "#Imprime a dimensão 1\n",
    "print(\"\\n\\n#Imprime a dimensão 1\\n\")\n",
    "print(array3D[0])"
   ]
  },
  {
   "cell_type": "markdown",
   "metadata": {},
   "source": [
    "### Exercício 4"
   ]
  },
  {
   "cell_type": "code",
   "execution_count": 61,
   "metadata": {},
   "outputs": [
    {
     "data": {
      "text/plain": [
       "array([[3, 2, 1],\n",
       "       [9, 8, 7],\n",
       "       [7, 5, 3]])"
      ]
     },
     "execution_count": 61,
     "metadata": {},
     "output_type": "execute_result"
    }
   ],
   "source": [
    "#1) Crie um array de duas dimensões (matriz).\n",
    "#2) Imprima os elementos da terceira linha da matriz\n",
    "#3) Imprima todos os elementos da primeira e segunda linhas e segunda e terceira colunas\n",
    "\n",
    "import numpy as np\n",
    "\n",
    "#1) Crio um array de duas dimensões\n",
    "\n",
    "matriz = np.array([[3,2,1],[9,8,7],[7,5,3]])\n",
    "matriz"
   ]
  },
  {
   "cell_type": "code",
   "execution_count": 62,
   "metadata": {},
   "outputs": [
    {
     "name": "stdout",
     "output_type": "stream",
     "text": [
      "matriz[2] =  [7 5 3]\n"
     ]
    }
   ],
   "source": [
    "#2) Imprimeindo os elementos da treceira linha\n",
    "\n",
    "print(\"matriz[2] = \", matriz[2])"
   ]
  },
  {
   "cell_type": "code",
   "execution_count": 92,
   "metadata": {},
   "outputs": [
    {
     "data": {
      "text/plain": [
       "array([[2, 1],\n",
       "       [8, 7]])"
      ]
     },
     "execution_count": 92,
     "metadata": {},
     "output_type": "execute_result"
    }
   ],
   "source": [
    "#3) Imprima todos os elementos da primeira e segunda linhas e segunda e terceira colunas\n",
    "matriz[:2,1:]"
   ]
  },
  {
   "cell_type": "markdown",
   "metadata": {},
   "source": [
    "### Exercício 5"
   ]
  },
  {
   "cell_type": "code",
   "execution_count": 2,
   "metadata": {},
   "outputs": [
    {
     "data": {
      "text/plain": [
       "array([[ 0,  1,  2,  3,  4],\n",
       "       [ 5,  6,  7,  8,  9],\n",
       "       [10, 11, 12, 13, 14]])"
      ]
     },
     "execution_count": 2,
     "metadata": {},
     "output_type": "execute_result"
    }
   ],
   "source": [
    "# Calcule a transposta da matriz abaixo\n",
    "import numpy as np\n",
    "\n",
    "arr = np.arange(15).reshape((3, 5))\n",
    "arr"
   ]
  },
  {
   "cell_type": "code",
   "execution_count": 6,
   "metadata": {},
   "outputs": [
    {
     "name": "stdout",
     "output_type": "stream",
     "text": [
      "Help on built-in function transpose:\n",
      "\n",
      "transpose(...) method of numpy.ndarray instance\n",
      "    a.transpose(*axes)\n",
      "    \n",
      "    Returns a view of the array with axes transposed.\n",
      "    \n",
      "    For a 1-D array this has no effect, as a transposed vector is simply the\n",
      "    same vector. To convert a 1-D array into a 2D column vector, an additional\n",
      "    dimension must be added. `np.atleast2d(a).T` achieves this, as does\n",
      "    `a[:, np.newaxis]`.\n",
      "    For a 2-D array, this is a standard matrix transpose.\n",
      "    For an n-D array, if axes are given, their order indicates how the\n",
      "    axes are permuted (see Examples). If axes are not provided and\n",
      "    ``a.shape = (i[0], i[1], ... i[n-2], i[n-1])``, then\n",
      "    ``a.transpose().shape = (i[n-1], i[n-2], ... i[1], i[0])``.\n",
      "    \n",
      "    Parameters\n",
      "    ----------\n",
      "    axes : None, tuple of ints, or `n` ints\n",
      "    \n",
      "     * None or no argument: reverses the order of the axes.\n",
      "    \n",
      "     * tuple of ints: `i` in the `j`-th place in the tuple means `a`'s\n",
      "       `i`-th axis becomes `a.transpose()`'s `j`-th axis.\n",
      "    \n",
      "     * `n` ints: same as an n-tuple of the same ints (this form is\n",
      "       intended simply as a \"convenience\" alternative to the tuple form)\n",
      "    \n",
      "    Returns\n",
      "    -------\n",
      "    out : ndarray\n",
      "        View of `a`, with axes suitably permuted.\n",
      "    \n",
      "    See Also\n",
      "    --------\n",
      "    ndarray.T : Array property returning the array transposed.\n",
      "    ndarray.reshape : Give a new shape to an array without changing its data.\n",
      "    \n",
      "    Examples\n",
      "    --------\n",
      "    >>> a = np.array([[1, 2], [3, 4]])\n",
      "    >>> a\n",
      "    array([[1, 2],\n",
      "           [3, 4]])\n",
      "    >>> a.transpose()\n",
      "    array([[1, 3],\n",
      "           [2, 4]])\n",
      "    >>> a.transpose((1, 0))\n",
      "    array([[1, 3],\n",
      "           [2, 4]])\n",
      "    >>> a.transpose(1, 0)\n",
      "    array([[1, 3],\n",
      "           [2, 4]])\n",
      "\n"
     ]
    }
   ],
   "source": [
    "help(arr.transpose)"
   ]
  },
  {
   "cell_type": "code",
   "execution_count": 7,
   "metadata": {},
   "outputs": [
    {
     "data": {
      "text/plain": [
       "array([[ 0,  5, 10],\n",
       "       [ 1,  6, 11],\n",
       "       [ 2,  7, 12],\n",
       "       [ 3,  8, 13],\n",
       "       [ 4,  9, 14]])"
      ]
     },
     "execution_count": 7,
     "metadata": {},
     "output_type": "execute_result"
    }
   ],
   "source": [
    "arr.transpose()"
   ]
  },
  {
   "cell_type": "markdown",
   "metadata": {},
   "source": [
    "### Exercício 6"
   ]
  },
  {
   "cell_type": "code",
   "execution_count": 23,
   "metadata": {},
   "outputs": [
    {
     "name": "stdout",
     "output_type": "stream",
     "text": [
      "[[1.1 2.2 1.3 1.4 2.5]]\n"
     ]
    }
   ],
   "source": [
    "# Considere os 3 arrays abaixo\n",
    "# Retorne o valor do array xarr se o valor for True no array cond. Caso contrário, retorne o valor do array yarr.\n",
    "xarr = np.array([1.1, 1.2, 1.3, 1.4, 1.5])\n",
    "yarr = np.array([2.1, 2.2, 2.3, 2.4, 2.5])\n",
    "cond = np.array([True, False, True, True, False])\n",
    "\n",
    "\n",
    "# Crio uma lista de temporária\n",
    "lista = []\n",
    "\n",
    "# Inicio a varredura do array cond\n",
    "i=0\n",
    "for item in cond:\n",
    "   if item == True:\n",
    "    lista.append(xarr[i])\n",
    "    i+=1\n",
    "   else:\n",
    "    lista.append(yarr[i])\n",
    "    i+=1\n",
    "\n",
    "# Converto a lista temporária numa matriz\n",
    "Matriz = np.matrix(lista)\n",
    "print(Matriz)\n"
   ]
  },
  {
   "cell_type": "markdown",
   "metadata": {},
   "source": [
    "### Exercício 7"
   ]
  },
  {
   "cell_type": "code",
   "execution_count": 1,
   "metadata": {},
   "outputs": [],
   "source": [
    "# Crie um array A com 10 elementos e salve o array em disco com a extensão npy\n",
    "# Depois carregue o array do disco no array B\n",
    "\n",
    "import numpy as np\n",
    "\n",
    "# Crinando um array A de 10 elementos\n",
    "\n",
    "A = np.array([[1,2,3,4,5],[6,7,8,9,10]])\n",
    "\n",
    "#Você pode exportar uma matriz para um arquivo NPY usando np.save ('filename.npy', array).\n",
    "np.save('MatrixA.npy',A)\n",
    "\n",
    "#Você pode carregar uma matriz em um arquivo NPY usando np .load ('filename.npy')."
   ]
  },
  {
   "cell_type": "markdown",
   "metadata": {
    "collapsed": true
   },
   "source": [
    "### Exercício 8"
   ]
  },
  {
   "cell_type": "code",
   "execution_count": null,
   "metadata": {},
   "outputs": [],
   "source": [
    "# Considerando a série abaixo, imprima os valores únicos na série\n",
    "import pandas as pd\n",
    "obj = pd.Series(['c', 'a', 'd', 'a', 'a', 'b', 'b', 'c', 'c', 'a', 'b'])"
   ]
  },
  {
   "cell_type": "markdown",
   "metadata": {
    "collapsed": true
   },
   "source": [
    "### Exercício 9"
   ]
  },
  {
   "cell_type": "code",
   "execution_count": null,
   "metadata": {},
   "outputs": [],
   "source": [
    "# Considerando o trecho de código que conecta em uma url na internet, imprima o dataframe conforme abaixo.\n",
    "import requests\n",
    "url = 'https://api.github.com/repos/pandas-dev/pandas/issues'\n",
    "resp = requests.get(url)\n",
    "resp"
   ]
  },
  {
   "cell_type": "code",
   "execution_count": null,
   "metadata": {},
   "outputs": [],
   "source": []
  },
  {
   "cell_type": "markdown",
   "metadata": {},
   "source": [
    "### Exercício 10"
   ]
  },
  {
   "cell_type": "code",
   "execution_count": null,
   "metadata": {},
   "outputs": [],
   "source": [
    "# Crie um banco de dados no SQLite, crie uma tabela, insira registros, \n",
    "# consulte a tabela e retorne os dados em dataframe do Pandas"
   ]
  },
  {
   "cell_type": "markdown",
   "metadata": {},
   "source": [
    "# Fim"
   ]
  },
  {
   "cell_type": "markdown",
   "metadata": {},
   "source": [
    "\n",
    "### Obrigado\n",
    "\n",
    "### Visite o Blog da Data Science Academy - <a href=\"http://blog.dsacademy.com.br\">Blog DSA</a>\n"
   ]
  }
 ],
 "metadata": {
  "kernelspec": {
   "display_name": "Python 3",
   "language": "python",
   "name": "python3"
  },
  "language_info": {
   "codemirror_mode": {
    "name": "ipython",
    "version": 3
   },
   "file_extension": ".py",
   "mimetype": "text/x-python",
   "name": "python",
   "nbconvert_exporter": "python",
   "pygments_lexer": "ipython3",
   "version": "3.8.8"
  }
 },
 "nbformat": 4,
 "nbformat_minor": 1
}
