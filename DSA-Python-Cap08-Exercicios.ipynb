{
 "cells": [
  {
   "cell_type": "markdown",
   "metadata": {},
   "source": [
    "# <font color='blue'>Data Science Academy - Python Fundamentos - Capítulo 8</font>\n",
    "\n",
    "## Download: http://github.com/dsacademybr"
   ]
  },
  {
   "cell_type": "code",
   "execution_count": null,
   "metadata": {},
   "outputs": [],
   "source": [
    "# Versão da Linguagem Python\n",
    "from platform import python_version\n",
    "print('Versão da Linguagem Python Usada Neste Jupyter Notebook:', python_version())"
   ]
  },
  {
   "cell_type": "markdown",
   "metadata": {},
   "source": [
    "### Exercícios Sobre Módulos Python Para Análise de Dados"
   ]
  },
  {
   "cell_type": "markdown",
   "metadata": {},
   "source": [
    "### ****** ATENÇÃO ******\n",
    "### Alguns dos exercícios podem requerer pesquisa adicional na documentação dos pacotes. Pesquise!"
   ]
  },
  {
   "cell_type": "markdown",
   "metadata": {},
   "source": [
    "### Exercício 1"
   ]
  },
  {
   "cell_type": "code",
   "execution_count": 82,
   "metadata": {},
   "outputs": [
    {
     "name": "stdout",
     "output_type": "stream",
     "text": [
      "Wall time: 15.6 ms\n"
     ]
    }
   ],
   "source": [
    "# Crie um array NumPy com 1000000 e uma lista com 1000000.\n",
    "# Multiplique cada elemento do array e da lista por 2 e calcule o tempo de execução com cada um dos objetos (use %time).\n",
    "# Qual objeto oferece melhor performance, array NumPy ou lista?\n",
    "\n",
    "\n",
    "############################## ANALISANDO O TEMPO DO ARRAY #####################################################\n",
    "import time\n",
    "\n",
    "# Numpy\n",
    "import numpy as np\n",
    "\n",
    "# Cria uma array unidimencional com o número 1 de elemento\n",
    "one = np.array([1])\n",
    "# Cria um Array para de 1000000 de 1\n",
    "Array = np.repeat(one, 1000000)\n",
    "\n",
    "\n",
    "# Inicia a contagem de tempo para o Array\n",
    "#start_array = time.time()\n",
    "\n",
    "#Multiplicação o Array por 2\n",
    "%time for _ in range(10): Array*2\n",
    "\n",
    "# Verifica a variação do tempo de execulção da rotina\n",
    "#delta_time_array = time.time() - start_array\n",
    "#print(\"delta_time_array = \", delta_time_array)\n"
   ]
  },
  {
   "cell_type": "code",
   "execution_count": 84,
   "metadata": {},
   "outputs": [
    {
     "name": "stdout",
     "output_type": "stream",
     "text": [
      "Wall time: 610 ms\n"
     ]
    }
   ],
   "source": [
    "############################## ANALISANDO O TEMPO DA LISTA #####################################################\n",
    "import time\n",
    "\n",
    "# Numpy\n",
    "import numpy as np\n",
    "\n",
    "\n",
    "# Criar uma lista com 1000000 de 1 como elementos\n",
    "Lista = []\n",
    "while len(Lista)<1000000:\n",
    "    Lista.append(1)\n",
    "\n",
    "# Inicia a contagem de tempo para a Lista\n",
    "#start_lista = time.time()\n",
    "\n",
    "#Multiplicação da Lista por 2\n",
    "%time for _ in range(10): Lista2 = [x*2 for x in Lista]\n",
    "\n",
    "# Verifica a variação do tempo de execulção da rotina\n",
    "#delta_time_lista = time.time() - start_lista\n",
    "\n",
    "#print(\"delta_time_lista = \", delta_time_lista)"
   ]
  },
  {
   "cell_type": "markdown",
   "metadata": {},
   "source": [
    "### Exercício 2"
   ]
  },
  {
   "cell_type": "code",
   "execution_count": 32,
   "metadata": {},
   "outputs": [
    {
     "name": "stdout",
     "output_type": "stream",
     "text": [
      "array2 antes =  [10 19 28 37 46 55 64 73 82 91]\n",
      "array2 depois=  [10 19 28 37 46  0  0  0  0 91]\n"
     ]
    }
   ],
   "source": [
    "# Exercício 2\n",
    "# Crie um array de 10 elementos\n",
    "# Altere o valores de todos os elementos dos índices 5 a 8 para 0\n",
    "\n",
    "import numpy as np\n",
    "\n",
    "# Criação de um array com 10 elementos\n",
    "\n",
    "array2 = np.arange(10,100,9)\n",
    "print(\"array2 antes = \", array2)\n",
    "\n",
    "# Altera os valores de todos os elementos dos índices 5 a 8 para 0\n",
    "\n",
    "i = 0\n",
    "while i < len(array2):\n",
    "    if (i>4)and(i<9):\n",
    "        array2[i]=0\n",
    "        i= i + 1\n",
    "    else:\n",
    "        i= i + 1\n",
    "\n",
    "print(\"array2 depois= \", array2)\n"
   ]
  },
  {
   "cell_type": "code",
   "execution_count": 89,
   "metadata": {},
   "outputs": [
    {
     "name": "stdout",
     "output_type": "stream",
     "text": [
      "array antes =  [0 1 2 3 4 5 6 7 8 9]\n",
      "array depois =  [0 1 2 3 4 0 0 0 8 9]\n"
     ]
    }
   ],
   "source": [
    "#Solunção 2\n",
    "import numpy as np\n",
    "\n",
    "arr = np.arange(10)\n",
    "print(\"array antes = \", arr)\n",
    "\n",
    "arr[5:8]=0\n",
    "\n",
    "print(\"array depois = \", arr)"
   ]
  },
  {
   "cell_type": "markdown",
   "metadata": {},
   "source": [
    "### Exercício 3"
   ]
  },
  {
   "cell_type": "code",
   "execution_count": 90,
   "metadata": {},
   "outputs": [
    {
     "name": "stdout",
     "output_type": "stream",
     "text": [
      "#Imprime todas as três dimensões\n",
      "\n",
      "[[[ 1.91988257 -0.30365252  0.13538857]\n",
      "  [ 0.2183881  -0.68878576 -0.07027844]\n",
      "  [ 1.60780895 -0.51698557 -0.17055037]]\n",
      "\n",
      " [[-1.59367316 -2.11430628  0.4327841 ]\n",
      "  [ 1.64951585 -0.95343307  0.55061245]\n",
      "  [-1.64542497 -0.51867033  0.1678702 ]]\n",
      "\n",
      " [[-0.21654408 -0.27186256  0.1271449 ]\n",
      "  [ 0.08130142 -1.12254424 -1.35140196]\n",
      "  [ 1.44468241  0.22069225  0.74187819]]]\n",
      "\n",
      "\n",
      "#Imprime a dimensão 1\n",
      "\n",
      "[[ 1.91988257 -0.30365252  0.13538857]\n",
      " [ 0.2183881  -0.68878576 -0.07027844]\n",
      " [ 1.60780895 -0.51698557 -0.17055037]]\n"
     ]
    }
   ],
   "source": [
    "# Crie um array de 3 dimensões e imprima a dimensão 1\n",
    "import numpy as np\n",
    "\n",
    "# Cria um array tridimencional com elementos aleatórios\n",
    "array3D = np.random.randn(3,3,3)\n",
    "\n",
    "#Imprime todas as três dimensões\n",
    "print(\"#Imprime todas as três dimensões\\n\")\n",
    "print(array3D)\n",
    "\n",
    "#Imprime a dimensão 1\n",
    "print(\"\\n\\n#Imprime a dimensão 1\\n\")\n",
    "print(array3D[0])"
   ]
  },
  {
   "cell_type": "markdown",
   "metadata": {},
   "source": [
    "### Exercício 4"
   ]
  },
  {
   "cell_type": "code",
   "execution_count": 61,
   "metadata": {},
   "outputs": [
    {
     "data": {
      "text/plain": [
       "array([[3, 2, 1],\n",
       "       [9, 8, 7],\n",
       "       [7, 5, 3]])"
      ]
     },
     "execution_count": 61,
     "metadata": {},
     "output_type": "execute_result"
    }
   ],
   "source": [
    "#1) Crie um array de duas dimensões (matriz).\n",
    "#2) Imprima os elementos da terceira linha da matriz\n",
    "#3) Imprima todos os elementos da primeira e segunda linhas e segunda e terceira colunas\n",
    "\n",
    "import numpy as np\n",
    "\n",
    "#1) Crio um array de duas dimensões\n",
    "\n",
    "matriz = np.array([[3,2,1],[9,8,7],[7,5,3]])\n",
    "matriz"
   ]
  },
  {
   "cell_type": "code",
   "execution_count": 62,
   "metadata": {},
   "outputs": [
    {
     "name": "stdout",
     "output_type": "stream",
     "text": [
      "matriz[2] =  [7 5 3]\n"
     ]
    }
   ],
   "source": [
    "#2) Imprimeindo os elementos da treceira linha\n",
    "\n",
    "print(\"matriz[2] = \", matriz[2])"
   ]
  },
  {
   "cell_type": "code",
   "execution_count": 92,
   "metadata": {},
   "outputs": [
    {
     "data": {
      "text/plain": [
       "array([[2, 1],\n",
       "       [8, 7]])"
      ]
     },
     "execution_count": 92,
     "metadata": {},
     "output_type": "execute_result"
    }
   ],
   "source": [
    "#3) Imprima todos os elementos da primeira e segunda linhas e segunda e terceira colunas\n",
    "matriz[:2,1:]"
   ]
  },
  {
   "cell_type": "markdown",
   "metadata": {},
   "source": [
    "### Exercício 5"
   ]
  },
  {
   "cell_type": "code",
   "execution_count": 2,
   "metadata": {},
   "outputs": [
    {
     "data": {
      "text/plain": [
       "array([[ 0,  1,  2,  3,  4],\n",
       "       [ 5,  6,  7,  8,  9],\n",
       "       [10, 11, 12, 13, 14]])"
      ]
     },
     "execution_count": 2,
     "metadata": {},
     "output_type": "execute_result"
    }
   ],
   "source": [
    "# Calcule a transposta da matriz abaixo\n",
    "import numpy as np\n",
    "\n",
    "arr = np.arange(15).reshape((3, 5))\n",
    "arr"
   ]
  },
  {
   "cell_type": "code",
   "execution_count": 6,
   "metadata": {},
   "outputs": [
    {
     "name": "stdout",
     "output_type": "stream",
     "text": [
      "Help on built-in function transpose:\n",
      "\n",
      "transpose(...) method of numpy.ndarray instance\n",
      "    a.transpose(*axes)\n",
      "    \n",
      "    Returns a view of the array with axes transposed.\n",
      "    \n",
      "    For a 1-D array this has no effect, as a transposed vector is simply the\n",
      "    same vector. To convert a 1-D array into a 2D column vector, an additional\n",
      "    dimension must be added. `np.atleast2d(a).T` achieves this, as does\n",
      "    `a[:, np.newaxis]`.\n",
      "    For a 2-D array, this is a standard matrix transpose.\n",
      "    For an n-D array, if axes are given, their order indicates how the\n",
      "    axes are permuted (see Examples). If axes are not provided and\n",
      "    ``a.shape = (i[0], i[1], ... i[n-2], i[n-1])``, then\n",
      "    ``a.transpose().shape = (i[n-1], i[n-2], ... i[1], i[0])``.\n",
      "    \n",
      "    Parameters\n",
      "    ----------\n",
      "    axes : None, tuple of ints, or `n` ints\n",
      "    \n",
      "     * None or no argument: reverses the order of the axes.\n",
      "    \n",
      "     * tuple of ints: `i` in the `j`-th place in the tuple means `a`'s\n",
      "       `i`-th axis becomes `a.transpose()`'s `j`-th axis.\n",
      "    \n",
      "     * `n` ints: same as an n-tuple of the same ints (this form is\n",
      "       intended simply as a \"convenience\" alternative to the tuple form)\n",
      "    \n",
      "    Returns\n",
      "    -------\n",
      "    out : ndarray\n",
      "        View of `a`, with axes suitably permuted.\n",
      "    \n",
      "    See Also\n",
      "    --------\n",
      "    ndarray.T : Array property returning the array transposed.\n",
      "    ndarray.reshape : Give a new shape to an array without changing its data.\n",
      "    \n",
      "    Examples\n",
      "    --------\n",
      "    >>> a = np.array([[1, 2], [3, 4]])\n",
      "    >>> a\n",
      "    array([[1, 2],\n",
      "           [3, 4]])\n",
      "    >>> a.transpose()\n",
      "    array([[1, 3],\n",
      "           [2, 4]])\n",
      "    >>> a.transpose((1, 0))\n",
      "    array([[1, 3],\n",
      "           [2, 4]])\n",
      "    >>> a.transpose(1, 0)\n",
      "    array([[1, 3],\n",
      "           [2, 4]])\n",
      "\n"
     ]
    }
   ],
   "source": [
    "help(arr.transpose)"
   ]
  },
  {
   "cell_type": "code",
   "execution_count": 7,
   "metadata": {},
   "outputs": [
    {
     "data": {
      "text/plain": [
       "array([[ 0,  5, 10],\n",
       "       [ 1,  6, 11],\n",
       "       [ 2,  7, 12],\n",
       "       [ 3,  8, 13],\n",
       "       [ 4,  9, 14]])"
      ]
     },
     "execution_count": 7,
     "metadata": {},
     "output_type": "execute_result"
    }
   ],
   "source": [
    "arr.transpose()"
   ]
  },
  {
   "cell_type": "markdown",
   "metadata": {},
   "source": [
    "### Exercício 6"
   ]
  },
  {
   "cell_type": "code",
   "execution_count": 23,
   "metadata": {},
   "outputs": [
    {
     "name": "stdout",
     "output_type": "stream",
     "text": [
      "[[1.1 2.2 1.3 1.4 2.5]]\n"
     ]
    }
   ],
   "source": [
    "# Considere os 3 arrays abaixo\n",
    "# Retorne o valor do array xarr se o valor for True no array cond. Caso contrário, retorne o valor do array yarr.\n",
    "xarr = np.array([1.1, 1.2, 1.3, 1.4, 1.5])\n",
    "yarr = np.array([2.1, 2.2, 2.3, 2.4, 2.5])\n",
    "cond = np.array([True, False, True, True, False])\n",
    "\n",
    "\n",
    "# Crio uma lista de temporária\n",
    "lista = []\n",
    "\n",
    "# Inicio a varredura do array cond\n",
    "i=0\n",
    "for item in cond:\n",
    "   if item == True:\n",
    "    lista.append(xarr[i])\n",
    "    i+=1\n",
    "   else:\n",
    "    lista.append(yarr[i])\n",
    "    i+=1\n",
    "\n",
    "# Converto a lista temporária numa matriz\n",
    "Matriz = np.matrix(lista)\n",
    "print(Matriz)\n"
   ]
  },
  {
   "cell_type": "markdown",
   "metadata": {},
   "source": [
    "### Exercício 7"
   ]
  },
  {
   "cell_type": "code",
   "execution_count": 2,
   "metadata": {},
   "outputs": [
    {
     "data": {
      "text/plain": [
       "array([[ 1,  2,  3,  4,  5],\n",
       "       [ 6,  7,  8,  9, 10]])"
      ]
     },
     "execution_count": 2,
     "metadata": {},
     "output_type": "execute_result"
    }
   ],
   "source": [
    "# Crie um array A com 10 elementos e salve o array em disco com a extensão npy\n",
    "# Depois carregue o array do disco no array B\n",
    "\n",
    "import numpy as np\n",
    "\n",
    "# Crinando um array A de 10 elementos\n",
    "\n",
    "A = np.array([[1,2,3,4,5],[6,7,8,9,10]])\n",
    "\n",
    "#Você pode exportar uma matriz para um arquivo NPY usando np.save ('filename.npy', array).\n",
    "np.save('MatrixA.npy',A)\n",
    "\n",
    "#Você pode carregar uma matriz em um arquivo NPY usando np .load ('filename.npy').\n",
    "\n",
    "B = np.copy(np.load('MatrixA.npy'))\n",
    "\n",
    "B"
   ]
  },
  {
   "cell_type": "markdown",
   "metadata": {
    "collapsed": true
   },
   "source": [
    "### Exercício 8"
   ]
  },
  {
   "cell_type": "code",
   "execution_count": 3,
   "metadata": {},
   "outputs": [
    {
     "data": {
      "text/plain": [
       "0     c\n",
       "1     a\n",
       "2     d\n",
       "3     a\n",
       "4     a\n",
       "5     b\n",
       "6     b\n",
       "7     c\n",
       "8     c\n",
       "9     a\n",
       "10    b\n",
       "dtype: object"
      ]
     },
     "execution_count": 3,
     "metadata": {},
     "output_type": "execute_result"
    }
   ],
   "source": [
    "# Considerando a série abaixo, imprima os valores únicos na série\n",
    "import pandas as pd\n",
    "obj = pd.Series(['c', 'a', 'd', 'a', 'a', 'b', 'b', 'c', 'c', 'a', 'b'])\n",
    "\n",
    "obj"
   ]
  },
  {
   "cell_type": "code",
   "execution_count": 5,
   "metadata": {},
   "outputs": [
    {
     "name": "stdout",
     "output_type": "stream",
     "text": [
      "['c' 'a' 'd' 'b']\n"
     ]
    }
   ],
   "source": [
    "# Impirmindo os valóres únicos\n",
    "print(obj.unique())"
   ]
  },
  {
   "cell_type": "markdown",
   "metadata": {
    "collapsed": true
   },
   "source": [
    "### Exercício 9"
   ]
  },
  {
   "cell_type": "code",
   "execution_count": 6,
   "metadata": {},
   "outputs": [
    {
     "data": {
      "text/plain": [
       "<Response [200]>"
      ]
     },
     "execution_count": 6,
     "metadata": {},
     "output_type": "execute_result"
    }
   ],
   "source": [
    "# Considerando o trecho de código que conecta em uma url na internet, imprima o dataframe conforme abaixo.\n",
    "import requests\n",
    "url = 'https://api.github.com/repos/pandas-dev/pandas/issues'\n",
    "resp = requests.get(url)\n",
    "resp"
   ]
  },
  {
   "cell_type": "code",
   "execution_count": 9,
   "metadata": {},
   "outputs": [
    {
     "data": {
      "text/html": [
       "<div>\n",
       "<style scoped>\n",
       "    .dataframe tbody tr th:only-of-type {\n",
       "        vertical-align: middle;\n",
       "    }\n",
       "\n",
       "    .dataframe tbody tr th {\n",
       "        vertical-align: top;\n",
       "    }\n",
       "\n",
       "    .dataframe thead th {\n",
       "        text-align: right;\n",
       "    }\n",
       "</style>\n",
       "<table border=\"1\" class=\"dataframe\">\n",
       "  <thead>\n",
       "    <tr style=\"text-align: right;\">\n",
       "      <th></th>\n",
       "      <th>0</th>\n",
       "    </tr>\n",
       "  </thead>\n",
       "  <tbody>\n",
       "    <tr>\n",
       "      <th>0</th>\n",
       "      <td>b'[{\"url\":\"https://api.github.com/repos/pandas...</td>\n",
       "    </tr>\n",
       "    <tr>\n",
       "      <th>1</th>\n",
       "      <td>b'pandas\",\"labels_url\":\"https://api.github.com...</td>\n",
       "    </tr>\n",
       "    <tr>\n",
       "      <th>2</th>\n",
       "      <td>b'hub.com/repos/pandas-dev/pandas/issues/44164...</td>\n",
       "    </tr>\n",
       "    <tr>\n",
       "      <th>3</th>\n",
       "      <td>b'/events\",\"html_url\":\"https://github.com/pand...</td>\n",
       "    </tr>\n",
       "    <tr>\n",
       "      <th>4</th>\n",
       "      <td>b'4164,\"title\":\"TST: Move some consistency rol...</td>\n",
       "    </tr>\n",
       "    <tr>\n",
       "      <th>...</th>\n",
       "      <td>...</td>\n",
       "    </tr>\n",
       "    <tr>\n",
       "      <th>1861</th>\n",
       "      <td>b\" this feature request when creating `pd.Data...</td>\n",
       "    </tr>\n",
       "    <tr>\n",
       "      <th>1862</th>\n",
       "      <td>b' have `coerce` functionality, so the `Series...</td>\n",
       "    </tr>\n",
       "    <tr>\n",
       "      <th>1863</th>\n",
       "      <td>b'{\"url\":\"https://api.github.com/repos/pandas-...</td>\n",
       "    </tr>\n",
       "    <tr>\n",
       "      <th>1864</th>\n",
       "      <td>b'0,\"confused\":0,\"heart\":0,\"rocket\":0,\"eyes\":0...</td>\n",
       "    </tr>\n",
       "    <tr>\n",
       "      <th>1865</th>\n",
       "      <td>b'ne\",\"performed_via_github_app\":null}]'</td>\n",
       "    </tr>\n",
       "  </tbody>\n",
       "</table>\n",
       "<p>1866 rows × 1 columns</p>\n",
       "</div>"
      ],
      "text/plain": [
       "                                                      0\n",
       "0     b'[{\"url\":\"https://api.github.com/repos/pandas...\n",
       "1     b'pandas\",\"labels_url\":\"https://api.github.com...\n",
       "2     b'hub.com/repos/pandas-dev/pandas/issues/44164...\n",
       "3     b'/events\",\"html_url\":\"https://github.com/pand...\n",
       "4     b'4164,\"title\":\"TST: Move some consistency rol...\n",
       "...                                                 ...\n",
       "1861  b\" this feature request when creating `pd.Data...\n",
       "1862  b' have `coerce` functionality, so the `Series...\n",
       "1863  b'{\"url\":\"https://api.github.com/repos/pandas-...\n",
       "1864  b'0,\"confused\":0,\"heart\":0,\"rocket\":0,\"eyes\":0...\n",
       "1865           b'ne\",\"performed_via_github_app\":null}]'\n",
       "\n",
       "[1866 rows x 1 columns]"
      ]
     },
     "execution_count": 9,
     "metadata": {},
     "output_type": "execute_result"
    }
   ],
   "source": [
    "from pandas import DataFrame\n",
    "frame = DataFrame(resp)\n",
    "frame"
   ]
  },
  {
   "cell_type": "markdown",
   "metadata": {},
   "source": [
    "### Exercício 10"
   ]
  },
  {
   "cell_type": "code",
   "execution_count": null,
   "metadata": {},
   "outputs": [],
   "source": [
    "# 1) Crie um banco de dados no SQLite,\n",
    "# 2) crie uma tabela, \n",
    "# 3) insira registros, \n",
    "# 4) consulte a tabela e \n",
    "# 5) retorne os dados em dataframe do Pandas"
   ]
  },
  {
   "cell_type": "markdown",
   "metadata": {},
   "source": [
    "#### 1) Criação de um banco de dados no SQLite"
   ]
  },
  {
   "cell_type": "code",
   "execution_count": 10,
   "metadata": {},
   "outputs": [],
   "source": [
    "# Reemove o arquivo com o banco de dados SQLite (caso exista)\n",
    "import os\n",
    "os.remove(\"BancoTeste.db\") if os.path.exists(\"BancoTeste.db\") else None\n",
    "\n",
    "# Importando o módulo de acesso ao SQLite\n",
    "import sqlite3\n",
    "\n",
    "# Cria uma conexão com o banco de dados. \n",
    "# Se o banco de dados não existir, ele é criado neste momento.\n",
    "con = sqlite3.connect('BancoTeste.db')\n",
    "\n",
    "# Criando um cursor \n",
    "# (Um cursor permite percorrer todos os registros em um conjunto de dados)\n",
    "cur = con.cursor()"
   ]
  },
  {
   "cell_type": "markdown",
   "metadata": {},
   "source": [
    "#### 2) Cria uma tabela"
   ]
  },
  {
   "cell_type": "code",
   "execution_count": 11,
   "metadata": {},
   "outputs": [
    {
     "data": {
      "text/plain": [
       "<sqlite3.Cursor at 0x2626f8759d0>"
      ]
     },
     "execution_count": 11,
     "metadata": {},
     "output_type": "execute_result"
    }
   ],
   "source": [
    "# Cria uma instrução sql\n",
    "sql_create = 'create table cursos '\\\n",
    "'(id integer primary key, '\\\n",
    "'titulo varchar(100), '\\\n",
    "'categoria varchar(140))'\n",
    "\n",
    "# Executando a instrução sql no cursor\n",
    "cur.execute(sql_create)"
   ]
  },
  {
   "cell_type": "markdown",
   "metadata": {},
   "source": [
    "#### 3) Inserindo registros"
   ]
  },
  {
   "cell_type": "code",
   "execution_count": 12,
   "metadata": {},
   "outputs": [],
   "source": [
    "# Criando outra sentença SQL para inserir registros\n",
    "sql_insert = 'insert into cursos values (?, ?, ?)'\n",
    "\n",
    "# Dados\n",
    "recset = [(1000, 'Ciência de Dados', 'Data Science'),\n",
    "          (1001, 'Big Data Fundamentos', 'Big Data'),\n",
    "          (1002, 'Python Fundamentos', 'Análise de Dados')]\n",
    "\n",
    "# Inserindo os registros\n",
    "for rec in recset:\n",
    "    cur.execute(sql_insert, rec)\n",
    "    \n",
    "# Grava a transação\n",
    "con.commit()"
   ]
  },
  {
   "cell_type": "markdown",
   "metadata": {},
   "source": [
    "#### 4) Consultando a tabela"
   ]
  },
  {
   "cell_type": "code",
   "execution_count": 14,
   "metadata": {},
   "outputs": [],
   "source": [
    "# Criando outra sentença SQL para selecionar registros\n",
    "sql_select = 'select * from cursos'\n",
    "\n",
    "# Seleciona todos os registros e recupera os registros\n",
    "cur.execute(sql_select)\n",
    "dados = cur.fetchall()"
   ]
  },
  {
   "cell_type": "markdown",
   "metadata": {},
   "source": [
    "#### 5) Retorna os dados em dataframe do Pandas"
   ]
  },
  {
   "cell_type": "code",
   "execution_count": 15,
   "metadata": {},
   "outputs": [
    {
     "data": {
      "text/html": [
       "<div>\n",
       "<style scoped>\n",
       "    .dataframe tbody tr th:only-of-type {\n",
       "        vertical-align: middle;\n",
       "    }\n",
       "\n",
       "    .dataframe tbody tr th {\n",
       "        vertical-align: top;\n",
       "    }\n",
       "\n",
       "    .dataframe thead th {\n",
       "        text-align: right;\n",
       "    }\n",
       "</style>\n",
       "<table border=\"1\" class=\"dataframe\">\n",
       "  <thead>\n",
       "    <tr style=\"text-align: right;\">\n",
       "      <th></th>\n",
       "      <th>0</th>\n",
       "      <th>1</th>\n",
       "      <th>2</th>\n",
       "    </tr>\n",
       "  </thead>\n",
       "  <tbody>\n",
       "    <tr>\n",
       "      <th>0</th>\n",
       "      <td>1000</td>\n",
       "      <td>Ciência de Dados</td>\n",
       "      <td>Data Science</td>\n",
       "    </tr>\n",
       "    <tr>\n",
       "      <th>1</th>\n",
       "      <td>1001</td>\n",
       "      <td>Big Data Fundamentos</td>\n",
       "      <td>Big Data</td>\n",
       "    </tr>\n",
       "    <tr>\n",
       "      <th>2</th>\n",
       "      <td>1002</td>\n",
       "      <td>Python Fundamentos</td>\n",
       "      <td>Análise de Dados</td>\n",
       "    </tr>\n",
       "  </tbody>\n",
       "</table>\n",
       "</div>"
      ],
      "text/plain": [
       "      0                     1                 2\n",
       "0  1000      Ciência de Dados      Data Science\n",
       "1  1001  Big Data Fundamentos          Big Data\n",
       "2  1002    Python Fundamentos  Análise de Dados"
      ]
     },
     "execution_count": 15,
     "metadata": {},
     "output_type": "execute_result"
    }
   ],
   "source": [
    "# Chamo o DataFrame no Pandas\n",
    "from pandas import DataFrame\n",
    "frame = DataFrame(dados)\n",
    "frame"
   ]
  },
  {
   "cell_type": "code",
   "execution_count": 18,
   "metadata": {},
   "outputs": [
    {
     "data": {
      "text/html": [
       "<div>\n",
       "<style scoped>\n",
       "    .dataframe tbody tr th:only-of-type {\n",
       "        vertical-align: middle;\n",
       "    }\n",
       "\n",
       "    .dataframe tbody tr th {\n",
       "        vertical-align: top;\n",
       "    }\n",
       "\n",
       "    .dataframe thead th {\n",
       "        text-align: right;\n",
       "    }\n",
       "</style>\n",
       "<table border=\"1\" class=\"dataframe\">\n",
       "  <thead>\n",
       "    <tr style=\"text-align: right;\">\n",
       "      <th></th>\n",
       "      <th>ID</th>\n",
       "      <th>Título</th>\n",
       "      <th>Categoria</th>\n",
       "    </tr>\n",
       "  </thead>\n",
       "  <tbody>\n",
       "    <tr>\n",
       "      <th>0</th>\n",
       "      <td>1000</td>\n",
       "      <td>Ciência de Dados</td>\n",
       "      <td>Data Science</td>\n",
       "    </tr>\n",
       "    <tr>\n",
       "      <th>1</th>\n",
       "      <td>1001</td>\n",
       "      <td>Big Data Fundamentos</td>\n",
       "      <td>Big Data</td>\n",
       "    </tr>\n",
       "    <tr>\n",
       "      <th>2</th>\n",
       "      <td>1002</td>\n",
       "      <td>Python Fundamentos</td>\n",
       "      <td>Análise de Dados</td>\n",
       "    </tr>\n",
       "  </tbody>\n",
       "</table>\n",
       "</div>"
      ],
      "text/plain": [
       "     ID                Título         Categoria\n",
       "0  1000      Ciência de Dados      Data Science\n",
       "1  1001  Big Data Fundamentos          Big Data\n",
       "2  1002    Python Fundamentos  Análise de Dados"
      ]
     },
     "execution_count": 18,
     "metadata": {},
     "output_type": "execute_result"
    }
   ],
   "source": [
    "# Formatando o nome das colunas\n",
    "DataFrame(dados, columns = ['ID', 'Título', 'Categoria'])"
   ]
  },
  {
   "cell_type": "markdown",
   "metadata": {},
   "source": [
    "# Fim"
   ]
  },
  {
   "cell_type": "markdown",
   "metadata": {},
   "source": [
    "\n",
    "### Obrigado\n",
    "\n",
    "### Visite o Blog da Data Science Academy - <a href=\"http://blog.dsacademy.com.br\">Blog DSA</a>\n"
   ]
  }
 ],
 "metadata": {
  "kernelspec": {
   "display_name": "Python 3",
   "language": "python",
   "name": "python3"
  },
  "language_info": {
   "codemirror_mode": {
    "name": "ipython",
    "version": 3
   },
   "file_extension": ".py",
   "mimetype": "text/x-python",
   "name": "python",
   "nbconvert_exporter": "python",
   "pygments_lexer": "ipython3",
   "version": "3.8.8"
  }
 },
 "nbformat": 4,
 "nbformat_minor": 1
}
